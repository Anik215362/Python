{
  "nbformat": 4,
  "nbformat_minor": 0,
  "metadata": {
    "colab": {
      "name": "Python Basic.ipynb",
      "provenance": [],
      "collapsed_sections": []
    },
    "kernelspec": {
      "name": "python3",
      "display_name": "Python 3"
    },
    "language_info": {
      "name": "python"
    }
  },
  "cells": [
    {
      "cell_type": "markdown",
      "source": [
        "# First code of AI"
      ],
      "metadata": {
        "id": "Ats9-ND7BDzk"
      }
    },
    {
      "cell_type": "code",
      "execution_count": null,
      "metadata": {
        "colab": {
          "base_uri": "https://localhost:8080/"
        },
        "id": "7JSokyWKsuIP",
        "outputId": "d714f05f-b14b-4d18-8651-6457bf609301"
      },
      "outputs": [
        {
          "output_type": "stream",
          "name": "stdout",
          "text": [
            "Hello World!\n"
          ]
        }
      ],
      "source": [
        " print(\"Hello World!\")"
      ]
    },
    {
      "cell_type": "markdown",
      "source": [
        "# Type"
      ],
      "metadata": {
        "id": "wpokiGWoBHOd"
      }
    },
    {
      "cell_type": "code",
      "source": [
        "x = 10\n",
        "type(x)"
      ],
      "metadata": {
        "colab": {
          "base_uri": "https://localhost:8080/"
        },
        "id": "8HjBZ3XBu8-a",
        "outputId": "6e8218ab-71fe-447e-dfe8-aed2e55d445f"
      },
      "execution_count": null,
      "outputs": [
        {
          "output_type": "execute_result",
          "data": {
            "text/plain": [
              "int"
            ]
          },
          "metadata": {},
          "execution_count": 3
        }
      ]
    },
    {
      "cell_type": "code",
      "source": [
        "type('name')"
      ],
      "metadata": {
        "colab": {
          "base_uri": "https://localhost:8080/"
        },
        "id": "pYJzABHnvlgX",
        "outputId": "4783f721-b87d-4755-892b-ce7e484ad6ae"
      },
      "execution_count": null,
      "outputs": [
        {
          "output_type": "execute_result",
          "data": {
            "text/plain": [
              "str"
            ]
          },
          "metadata": {},
          "execution_count": 5
        }
      ]
    },
    {
      "cell_type": "code",
      "source": [
        "type(10.5)"
      ],
      "metadata": {
        "colab": {
          "base_uri": "https://localhost:8080/"
        },
        "id": "GxUD9WgvvyDZ",
        "outputId": "8c2f7c04-ddf6-42b3-9f9a-d1b9eeb6d57c"
      },
      "execution_count": null,
      "outputs": [
        {
          "output_type": "execute_result",
          "data": {
            "text/plain": [
              "float"
            ]
          },
          "metadata": {},
          "execution_count": 6
        }
      ]
    },
    {
      "cell_type": "markdown",
      "source": [
        "# Arithmatic Operator"
      ],
      "metadata": {
        "id": "0L3TMJTuBLl9"
      }
    },
    {
      "cell_type": "code",
      "source": [
        "a=4\n",
        "b=6\n",
        "c=3\n",
        "d=5\n",
        "e=9\n",
        "f=2\n",
        "equation = a+b*d/c-3+8*e-f\n",
        "equation1 = (a+((b*d)/c)-3+(8*e)-f)\n",
        "print(equation)\n",
        "print(equation1)"
      ],
      "metadata": {
        "colab": {
          "base_uri": "https://localhost:8080/"
        },
        "id": "M1ECO_5Nv9EX",
        "outputId": "f1028425-5bc3-4c09-ddf5-7d6fb453541b"
      },
      "execution_count": null,
      "outputs": [
        {
          "output_type": "stream",
          "name": "stdout",
          "text": [
            "81.0\n",
            "81.0\n"
          ]
        }
      ]
    },
    {
      "cell_type": "markdown",
      "source": [
        "# Relational Operator"
      ],
      "metadata": {
        "id": "qabLmt5zBP0c"
      }
    },
    {
      "cell_type": "code",
      "source": [
        "x = 105\n",
        "y = 100"
      ],
      "metadata": {
        "id": "t_WGxBqowtiv"
      },
      "execution_count": null,
      "outputs": []
    },
    {
      "cell_type": "code",
      "source": [
        "x>y"
      ],
      "metadata": {
        "colab": {
          "base_uri": "https://localhost:8080/"
        },
        "id": "-Fc1XAqE0TxS",
        "outputId": "9e0a7259-75ab-40ad-848d-6d6277716c6b"
      },
      "execution_count": null,
      "outputs": [
        {
          "output_type": "execute_result",
          "data": {
            "text/plain": [
              "True"
            ]
          },
          "metadata": {},
          "execution_count": 13
        }
      ]
    },
    {
      "cell_type": "code",
      "source": [
        "x<y"
      ],
      "metadata": {
        "colab": {
          "base_uri": "https://localhost:8080/"
        },
        "id": "qgAnkcUI0U4c",
        "outputId": "1abd1867-8912-4eba-cc6f-756772dbcab6"
      },
      "execution_count": null,
      "outputs": [
        {
          "output_type": "execute_result",
          "data": {
            "text/plain": [
              "False"
            ]
          },
          "metadata": {},
          "execution_count": 14
        }
      ]
    },
    {
      "cell_type": "code",
      "source": [
        "x==y"
      ],
      "metadata": {
        "colab": {
          "base_uri": "https://localhost:8080/"
        },
        "id": "rQIeb_u-0Wms",
        "outputId": "5e5f524c-f2f9-4a41-986d-63a823c3c2da"
      },
      "execution_count": null,
      "outputs": [
        {
          "output_type": "execute_result",
          "data": {
            "text/plain": [
              "False"
            ]
          },
          "metadata": {},
          "execution_count": 15
        }
      ]
    },
    {
      "cell_type": "markdown",
      "source": [
        "# Print Function"
      ],
      "metadata": {
        "id": "Jld5ftMzDlUE"
      }
    },
    {
      "cell_type": "code",
      "source": [
        "print(' this is a longer string, so we \\\n",
        "split it over two lines')"
      ],
      "metadata": {
        "colab": {
          "base_uri": "https://localhost:8080/"
        },
        "id": "SrH10D7D0X1M",
        "outputId": "ea309da9-b667-4b3a-d9a9-e072d591d269"
      },
      "execution_count": null,
      "outputs": [
        {
          "output_type": "stream",
          "name": "stdout",
          "text": [
            " this is a longer string, so we split it over two lines\n"
          ]
        }
      ]
    },
    {
      "cell_type": "code",
      "source": [
        "print('sum is',7+3)"
      ],
      "metadata": {
        "colab": {
          "base_uri": "https://localhost:8080/"
        },
        "id": "GPiXfvtO18ax",
        "outputId": "c6cc453f-478f-4306-ac4f-fbf49a2febd5"
      },
      "execution_count": null,
      "outputs": [
        {
          "output_type": "stream",
          "name": "stdout",
          "text": [
            "sum is 10\n"
          ]
        }
      ]
    },
    {
      "cell_type": "markdown",
      "source": [
        "**Truncate remember**#remember"
      ],
      "metadata": {
        "id": "9EZi8n5R1_D0"
      }
    },
    {
      "cell_type": "code",
      "source": [
        "print(\"\"\"hello,\\\n",
        "this is \\\n",
        "a\n",
        "multiline\n",
        "string\"\"\")"
      ],
      "metadata": {
        "colab": {
          "base_uri": "https://localhost:8080/"
        },
        "id": "BHskFX2z2PDt",
        "outputId": "a6c957cb-1b8d-446e-b823-1a480b9436a5"
      },
      "execution_count": null,
      "outputs": [
        {
          "output_type": "stream",
          "name": "stdout",
          "text": [
            "hello,this is a\n",
            "multiline\n",
            "string\n"
          ]
        }
      ]
    },
    {
      "cell_type": "code",
      "source": [
        "print(\"\"\"Hi,\n",
        "This is our First lab class.\n",
        "Welcome Everyone.\"\"\")"
      ],
      "metadata": {
        "colab": {
          "base_uri": "https://localhost:8080/"
        },
        "id": "bPOtLmBo2pIp",
        "outputId": "3f6ecca8-967a-4194-e4bb-cfcba2aa0aa1"
      },
      "execution_count": null,
      "outputs": [
        {
          "output_type": "stream",
          "name": "stdout",
          "text": [
            "Hi,\n",
            "This is our First lab class.\n",
            "Welcome Everyone.\n"
          ]
        }
      ]
    },
    {
      "cell_type": "markdown",
      "source": [
        "# Precision Handling"
      ],
      "metadata": {
        "id": "EfpC45HWBvAW"
      }
    },
    {
      "cell_type": "code",
      "source": [
        "7/3"
      ],
      "metadata": {
        "colab": {
          "base_uri": "https://localhost:8080/"
        },
        "id": "kdQUq72k5SVD",
        "outputId": "d9bc5d13-af46-4cb2-c8a5-4eb81d682918"
      },
      "execution_count": null,
      "outputs": [
        {
          "output_type": "execute_result",
          "data": {
            "text/plain": [
              "2.3333333333333335"
            ]
          },
          "metadata": {},
          "execution_count": 24
        }
      ]
    },
    {
      "cell_type": "code",
      "source": [
        "a = 3.4536475856"
      ],
      "metadata": {
        "id": "ChajG7sf-yNs"
      },
      "execution_count": null,
      "outputs": []
    },
    {
      "cell_type": "code",
      "source": [
        "print(\"%.3f\" %a)"
      ],
      "metadata": {
        "colab": {
          "base_uri": "https://localhost:8080/"
        },
        "id": "kuU9J590-11N",
        "outputId": "6b0ec251-ea24-46bd-9cd6-b61a7413c55c"
      },
      "execution_count": null,
      "outputs": [
        {
          "output_type": "stream",
          "name": "stdout",
          "text": [
            "3.454\n"
          ]
        }
      ]
    },
    {
      "cell_type": "code",
      "source": [
        "a=10/3\n",
        "print(\"%.2f\" %a)"
      ],
      "metadata": {
        "colab": {
          "base_uri": "https://localhost:8080/"
        },
        "id": "zjwBsRL6-7Xd",
        "outputId": "6aa67aa2-7494-4fb5-c3d1-acedd7e59c3e"
      },
      "execution_count": null,
      "outputs": [
        {
          "output_type": "stream",
          "name": "stdout",
          "text": [
            "3.33\n"
          ]
        }
      ]
    },
    {
      "cell_type": "markdown",
      "source": [
        "# Getting Input from user"
      ],
      "metadata": {
        "id": "Oxtr8Q1EBYT8"
      }
    },
    {
      "cell_type": "code",
      "source": [
        "name = input(\"My Name is : \")"
      ],
      "metadata": {
        "colab": {
          "base_uri": "https://localhost:8080/"
        },
        "id": "rIxp6eAiAb5t",
        "outputId": "6eb0c811-4572-4dac-8492-5554640634e7"
      },
      "execution_count": null,
      "outputs": [
        {
          "name": "stdout",
          "output_type": "stream",
          "text": [
            "My Name is : Anik\n"
          ]
        }
      ]
    },
    {
      "cell_type": "code",
      "source": [
        "print(name)"
      ],
      "metadata": {
        "colab": {
          "base_uri": "https://localhost:8080/"
        },
        "id": "8B5jBKh2AqUU",
        "outputId": "0d962e1c-6f58-4218-f6c7-a59e60dc07d5"
      },
      "execution_count": null,
      "outputs": [
        {
          "output_type": "stream",
          "name": "stdout",
          "text": [
            "Anik\n"
          ]
        }
      ]
    },
    {
      "cell_type": "markdown",
      "source": [
        "# Concatenation"
      ],
      "metadata": {
        "id": "04J0rFomCcrm"
      }
    },
    {
      "cell_type": "code",
      "source": [
        "value1 = input(\"Enter first value: \")\n",
        "value2 = input(\"Enter second value: \")"
      ],
      "metadata": {
        "colab": {
          "base_uri": "https://localhost:8080/"
        },
        "id": "TkQQMXUuA46m",
        "outputId": "c6d653a9-4582-46e7-8dad-376d432f0dfa"
      },
      "execution_count": null,
      "outputs": [
        {
          "name": "stdout",
          "output_type": "stream",
          "text": [
            "Enter first value: Hi\n",
            "Enter second value: Bro\n"
          ]
        }
      ]
    },
    {
      "cell_type": "code",
      "source": [
        "total = value1 + value2"
      ],
      "metadata": {
        "id": "ai58l1FDCBu1"
      },
      "execution_count": null,
      "outputs": []
    },
    {
      "cell_type": "code",
      "source": [
        "print(total)"
      ],
      "metadata": {
        "colab": {
          "base_uri": "https://localhost:8080/"
        },
        "id": "U0HxGbJkCIpD",
        "outputId": "03e673a2-82c4-4bbb-85fe-c6a0d5484004"
      },
      "execution_count": null,
      "outputs": [
        {
          "output_type": "stream",
          "name": "stdout",
          "text": [
            "HiBro\n"
          ]
        }
      ]
    },
    {
      "cell_type": "code",
      "source": [
        "type(total)"
      ],
      "metadata": {
        "colab": {
          "base_uri": "https://localhost:8080/"
        },
        "id": "LxqOAb5hCKYz",
        "outputId": "320a6949-689d-4319-e987-1d85d16bc968"
      },
      "execution_count": null,
      "outputs": [
        {
          "output_type": "execute_result",
          "data": {
            "text/plain": [
              "str"
            ]
          },
          "metadata": {},
          "execution_count": 34
        }
      ]
    },
    {
      "cell_type": "code",
      "source": [
        "a = input(\"Enter a value : \")"
      ],
      "metadata": {
        "colab": {
          "base_uri": "https://localhost:8080/"
        },
        "id": "xPFebnywCNxr",
        "outputId": "c8b572d6-db52-4aa0-b2c7-4ce07dc5ae44"
      },
      "execution_count": null,
      "outputs": [
        {
          "name": "stdout",
          "output_type": "stream",
          "text": [
            "Enter a value : 10\n"
          ]
        }
      ]
    },
    {
      "cell_type": "code",
      "source": [
        "type(a)"
      ],
      "metadata": {
        "colab": {
          "base_uri": "https://localhost:8080/"
        },
        "id": "gBvRzAzHC7Nx",
        "outputId": "746a72bb-3a63-4852-c210-af5beeb795eb"
      },
      "execution_count": null,
      "outputs": [
        {
          "output_type": "execute_result",
          "data": {
            "text/plain": [
              "str"
            ]
          },
          "metadata": {},
          "execution_count": 38
        }
      ]
    },
    {
      "cell_type": "markdown",
      "source": [
        "# Getting an interger input"
      ],
      "metadata": {
        "id": "lWn6NdS7Cr50"
      }
    },
    {
      "cell_type": "code",
      "source": [
        "b = int(input('Enter an integer: '))"
      ],
      "metadata": {
        "colab": {
          "base_uri": "https://localhost:8080/"
        },
        "id": "S_-QkZ8pCXu7",
        "outputId": "a0ac04ad-7ac3-46bd-f14a-39ecfe53a277"
      },
      "execution_count": null,
      "outputs": [
        {
          "name": "stdout",
          "output_type": "stream",
          "text": [
            "Enter an integer: 10\n"
          ]
        }
      ]
    },
    {
      "cell_type": "code",
      "source": [
        "type(b)"
      ],
      "metadata": {
        "colab": {
          "base_uri": "https://localhost:8080/"
        },
        "id": "psdq9M9OC3vC",
        "outputId": "ab137c0f-2f28-429b-f8fb-d613eeb7212c"
      },
      "execution_count": null,
      "outputs": [
        {
          "output_type": "execute_result",
          "data": {
            "text/plain": [
              "int"
            ]
          },
          "metadata": {},
          "execution_count": 37
        }
      ]
    },
    {
      "cell_type": "markdown",
      "source": [
        "# Taking Multiple input"
      ],
      "metadata": {
        "id": "1lxtXeN9DPO0"
      }
    },
    {
      "cell_type": "code",
      "source": [
        "a, b = input().split(',')"
      ],
      "metadata": {
        "colab": {
          "base_uri": "https://localhost:8080/"
        },
        "id": "_RERO6h5C5-s",
        "outputId": "8a96e280-29ed-430f-ad43-9ede6b941e42"
      },
      "execution_count": null,
      "outputs": [
        {
          "name": "stdout",
          "output_type": "stream",
          "text": [
            "11,12\n"
          ]
        }
      ]
    },
    {
      "cell_type": "code",
      "source": [
        "print(a,b)"
      ],
      "metadata": {
        "colab": {
          "base_uri": "https://localhost:8080/"
        },
        "id": "QOYb8_85DHub",
        "outputId": "1f59781b-888b-4def-9562-7707023ee94d"
      },
      "execution_count": null,
      "outputs": [
        {
          "output_type": "stream",
          "name": "stdout",
          "text": [
            "11 12\n"
          ]
        }
      ]
    },
    {
      "cell_type": "code",
      "source": [
        "print(type(a))"
      ],
      "metadata": {
        "colab": {
          "base_uri": "https://localhost:8080/"
        },
        "id": "1_-Rpdw_D3xb",
        "outputId": "f77efd07-f111-4855-fc4f-46b34796c3f7"
      },
      "execution_count": null,
      "outputs": [
        {
          "output_type": "stream",
          "name": "stdout",
          "text": [
            "<class 'str'>\n"
          ]
        }
      ]
    },
    {
      "cell_type": "code",
      "source": [
        "a, b, c, d, e = input().split(' ')"
      ],
      "metadata": {
        "colab": {
          "base_uri": "https://localhost:8080/"
        },
        "id": "7_4NTekBD6yq",
        "outputId": "d465a658-fe91-4d68-d2d9-e2d676bfa71f"
      },
      "execution_count": null,
      "outputs": [
        {
          "name": "stdout",
          "output_type": "stream",
          "text": [
            "10 11 12 13 14\n"
          ]
        }
      ]
    },
    {
      "cell_type": "code",
      "source": [
        "print(a,b,c,d,e)"
      ],
      "metadata": {
        "colab": {
          "base_uri": "https://localhost:8080/"
        },
        "id": "uWUqYY7YEWQK",
        "outputId": "46a5602a-43a2-44ce-aad1-d869507b34ad"
      },
      "execution_count": null,
      "outputs": [
        {
          "output_type": "stream",
          "name": "stdout",
          "text": [
            "10 11 12 13 14\n"
          ]
        }
      ]
    },
    {
      "cell_type": "code",
      "source": [
        "type(a)"
      ],
      "metadata": {
        "colab": {
          "base_uri": "https://localhost:8080/"
        },
        "id": "cFD4T4QNEZ_i",
        "outputId": "91907bcb-291e-459a-a862-c8bef5d4a03e"
      },
      "execution_count": null,
      "outputs": [
        {
          "output_type": "execute_result",
          "data": {
            "text/plain": [
              "str"
            ]
          },
          "metadata": {},
          "execution_count": 48
        }
      ]
    },
    {
      "cell_type": "markdown",
      "source": [
        "# Min & Max"
      ],
      "metadata": {
        "id": "Sn3z5QaLFDd5"
      }
    },
    {
      "cell_type": "code",
      "source": [
        "val1 = int(input(\"Enter value1:\"))\n",
        "val2 = int(input(\"Enter value2:\"))\n",
        "val3 = int(input(\"Enter value3:\"))"
      ],
      "metadata": {
        "colab": {
          "base_uri": "https://localhost:8080/"
        },
        "id": "Vt4XSsQNExmC",
        "outputId": "605ae3bc-f78d-4e91-cf31-3cffc06c48f4"
      },
      "execution_count": null,
      "outputs": [
        {
          "name": "stdout",
          "output_type": "stream",
          "text": [
            "Enter value1:40\n",
            "Enter value2:45\n",
            "Enter value3:46\n"
          ]
        }
      ]
    },
    {
      "cell_type": "code",
      "source": [
        "min(val1,val2,val3)"
      ],
      "metadata": {
        "colab": {
          "base_uri": "https://localhost:8080/"
        },
        "id": "1wfFAPDQFQU6",
        "outputId": "4a5e26cf-b062-4f8a-c07d-3da8c5c3cb65"
      },
      "execution_count": null,
      "outputs": [
        {
          "output_type": "execute_result",
          "data": {
            "text/plain": [
              "40"
            ]
          },
          "metadata": {},
          "execution_count": 51
        }
      ]
    },
    {
      "cell_type": "code",
      "source": [
        "max(val1,val2,val3)"
      ],
      "metadata": {
        "colab": {
          "base_uri": "https://localhost:8080/"
        },
        "id": "3r7JcvqvFuey",
        "outputId": "f6c8f0d6-1600-403e-ab17-cb4be11fd36c"
      },
      "execution_count": null,
      "outputs": [
        {
          "output_type": "execute_result",
          "data": {
            "text/plain": [
              "46"
            ]
          },
          "metadata": {},
          "execution_count": 52
        }
      ]
    }
  ]
}